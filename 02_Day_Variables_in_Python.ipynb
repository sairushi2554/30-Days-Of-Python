{
 "cells": [
  {
   "cell_type": "markdown",
   "id": "c1c6831d-b8c0-40f7-94a1-b71cf29575ed",
   "metadata": {},
   "source": [
    "# Variables in Python"
   ]
  },
  {
   "cell_type": "code",
   "execution_count": 2,
   "id": "7c9464fd-7c27-475f-a5be-5664da822300",
   "metadata": {},
   "outputs": [],
   "source": [
    "first_name='Sairushi'\n",
    "middle_name='Nanasaheb'\n",
    "last_name='Gadakh'\n",
    "Age=21\n",
    "is_married=False\n",
    "skills = ['Python', 'R', 'SQL', 'Excel', 'Azure']\n",
    "country='India'\n",
    "city='Sangamner'\n"
   ]
  },
  {
   "cell_type": "code",
   "execution_count": 3,
   "id": "6173d91d-60f2-4ab7-939b-8b9b2d732a02",
   "metadata": {},
   "outputs": [],
   "source": [
    "person_info = {\n",
    "    'firstname':'Sairushi', \n",
    "    'lastname':'Gadakh', \n",
    "    'country':'India',\n",
    "    'city':'Sangamner'\n",
    "    }"
   ]
  },
  {
   "cell_type": "markdown",
   "id": "96677273-c2e6-4fa5-b4d3-5fd53b417958",
   "metadata": {},
   "source": [
    "###  Printing the values stored in the variables"
   ]
  },
  {
   "cell_type": "code",
   "execution_count": 5,
   "id": "c8fc6ace-9416-4a59-8cbb-6e0cdd80646a",
   "metadata": {},
   "outputs": [
    {
     "name": "stdout",
     "output_type": "stream",
     "text": [
      "{'firstname': 'Sairushi', 'lastname': 'Gadakh', 'country': 'India', 'city': 'Sangamner'}\n"
     ]
    }
   ],
   "source": [
    "print(person_info)"
   ]
  },
  {
   "cell_type": "code",
   "execution_count": 6,
   "id": "f80f5f9f-bfe7-4050-a4d7-e2f90d189749",
   "metadata": {},
   "outputs": [
    {
     "name": "stdout",
     "output_type": "stream",
     "text": [
      "First name: Sairushi\n"
     ]
    }
   ],
   "source": [
    "print('First name:', first_name)"
   ]
  },
  {
   "cell_type": "code",
   "execution_count": 7,
   "id": "314a031a-0971-41b7-8525-371376e993b9",
   "metadata": {},
   "outputs": [
    {
     "name": "stdout",
     "output_type": "stream",
     "text": [
      "First name length: 8\n"
     ]
    }
   ],
   "source": [
    "print('First name length:', len(first_name))"
   ]
  },
  {
   "cell_type": "code",
   "execution_count": 8,
   "id": "70fbddb4-7b9f-4370-898e-50d3eefa2761",
   "metadata": {},
   "outputs": [
    {
     "name": "stdout",
     "output_type": "stream",
     "text": [
      "Last name:  Gadakh\n"
     ]
    }
   ],
   "source": [
    "print('Last name: ', last_name)"
   ]
  },
  {
   "cell_type": "code",
   "execution_count": 9,
   "id": "38e74e90-38ad-4fa2-bcfc-49db731f9000",
   "metadata": {},
   "outputs": [
    {
     "name": "stdout",
     "output_type": "stream",
     "text": [
      "Last name length:  6\n"
     ]
    }
   ],
   "source": [
    "print('Last name length: ', len(last_name))"
   ]
  },
  {
   "cell_type": "code",
   "execution_count": 10,
   "id": "595718b8-9f3d-4d2d-89d8-fae3c58330c2",
   "metadata": {},
   "outputs": [
    {
     "name": "stdout",
     "output_type": "stream",
     "text": [
      "Country:  India\n"
     ]
    }
   ],
   "source": [
    "print('Country: ', country)"
   ]
  },
  {
   "cell_type": "code",
   "execution_count": 11,
   "id": "c5c51057-f400-4d2d-9b8e-ec6ff3325d19",
   "metadata": {},
   "outputs": [
    {
     "name": "stdout",
     "output_type": "stream",
     "text": [
      "City:  Sangamner\n"
     ]
    }
   ],
   "source": [
    "print('City: ', city)"
   ]
  },
  {
   "cell_type": "code",
   "execution_count": 12,
   "id": "38836cad-af3b-4309-a816-eafea9e0efa1",
   "metadata": {},
   "outputs": [
    {
     "ename": "NameError",
     "evalue": "name 'age' is not defined",
     "output_type": "error",
     "traceback": [
      "\u001b[1;31m---------------------------------------------------------------------------\u001b[0m",
      "\u001b[1;31mNameError\u001b[0m                                 Traceback (most recent call last)",
      "Cell \u001b[1;32mIn[12], line 1\u001b[0m\n\u001b[1;32m----> 1\u001b[0m \u001b[38;5;28mprint\u001b[39m(\u001b[38;5;124m'\u001b[39m\u001b[38;5;124mAge: \u001b[39m\u001b[38;5;124m'\u001b[39m, age)\n",
      "\u001b[1;31mNameError\u001b[0m: name 'age' is not defined"
     ]
    }
   ],
   "source": [
    "print('Age: ', age)"
   ]
  },
  {
   "cell_type": "code",
   "execution_count": null,
   "id": "15ac2b89-e4df-4664-93f8-f36d82c2116d",
   "metadata": {},
   "outputs": [],
   "source": [
    "print('Married: ', is_married)"
   ]
  },
  {
   "cell_type": "code",
   "execution_count": null,
   "id": "d15ec63c-94bb-4e7f-957d-a0cc32047fdc",
   "metadata": {},
   "outputs": [],
   "source": [
    "print('Skills: ', skills)"
   ]
  },
  {
   "cell_type": "code",
   "execution_count": null,
   "id": "56b5e03c-24ad-4202-beba-272d6c162dcb",
   "metadata": {},
   "outputs": [],
   "source": [
    "print('Person information: ', person_info)"
   ]
  },
  {
   "cell_type": "markdown",
   "id": "441b4db8-1a69-444f-9fec-fd885b0d4675",
   "metadata": {},
   "source": [
    "   "
   ]
  },
  {
   "cell_type": "markdown",
   "id": "a22153ef-121f-4133-89f1-abcd5a7c2cee",
   "metadata": {},
   "source": [
    "### Declaring Multiple variables in one line"
   ]
  },
  {
   "cell_type": "code",
   "execution_count": null,
   "id": "54658fe8-07ae-470a-93c8-8cd7f4a6f565",
   "metadata": {},
   "outputs": [],
   "source": [
    "first_name,last_name,country,age,is_married='Sairushi','Gadakh','India',21,False"
   ]
  },
  {
   "cell_type": "code",
   "execution_count": null,
   "id": "01fdc850-4985-4e31-b3ef-5433b89816d4",
   "metadata": {},
   "outputs": [],
   "source": [
    "print(first_name, last_name, country, age, is_married)\n",
    "print('First name:', first_name)\n",
    "print('Last name: ', last_name)\n",
    "print('Country: ', country)\n",
    "print('Age: ', age)\n",
    "print('Married: ', is_married)"
   ]
  },
  {
   "cell_type": "markdown",
   "id": "2454d160-3c8e-4ecf-b0be-73c9d71f69b3",
   "metadata": {},
   "source": [
    "   "
   ]
  }
 ],
 "metadata": {
  "kernelspec": {
   "display_name": "Python 3 (ipykernel)",
   "language": "python",
   "name": "python3"
  },
  "language_info": {
   "codemirror_mode": {
    "name": "ipython",
    "version": 3
   },
   "file_extension": ".py",
   "mimetype": "text/x-python",
   "name": "python",
   "nbconvert_exporter": "python",
   "pygments_lexer": "ipython3",
   "version": "3.12.4"
  }
 },
 "nbformat": 4,
 "nbformat_minor": 5
}
