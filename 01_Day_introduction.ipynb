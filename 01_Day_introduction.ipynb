{
 "cells": [
  {
   "cell_type": "markdown",
   "id": "50e57156-4ad8-4be2-870d-f3de05861998",
   "metadata": {},
   "source": [
    "# Introduction\n",
    "### Day 1 - 30DaysOfPython Challenge\n"
   ]
  },
  {
   "cell_type": "code",
   "execution_count": 1,
   "id": "67e84a95-f878-4d62-9c8e-c042a16f2955",
   "metadata": {},
   "outputs": [
    {
     "name": "stdout",
     "output_type": "stream",
     "text": [
      "5\n"
     ]
    }
   ],
   "source": [
    "print(2 + 3)   # addition(+)"
   ]
  },
  {
   "cell_type": "code",
   "execution_count": 2,
   "id": "7d8bf0eb-306e-4680-b6d5-f79e67d606b6",
   "metadata": {},
   "outputs": [
    {
     "name": "stdout",
     "output_type": "stream",
     "text": [
      "2\n"
     ]
    }
   ],
   "source": [
    "print(3 - 1)   # subtraction(-)"
   ]
  },
  {
   "cell_type": "code",
   "execution_count": 3,
   "id": "3a399e0e-999b-4665-8405-5ca468743fbb",
   "metadata": {},
   "outputs": [
    {
     "name": "stdout",
     "output_type": "stream",
     "text": [
      "6\n"
     ]
    }
   ],
   "source": [
    "print(2 * 3)   # multiplication(*)"
   ]
  },
  {
   "cell_type": "code",
   "execution_count": 4,
   "id": "9c1c44b4-5791-47c2-a82a-a962855bb1e9",
   "metadata": {},
   "outputs": [
    {
     "name": "stdout",
     "output_type": "stream",
     "text": [
      "1.5\n"
     ]
    }
   ],
   "source": [
    "print(3 / 2)   # division(/)"
   ]
  },
  {
   "cell_type": "code",
   "execution_count": 5,
   "id": "a90edf3e-4363-4a60-853e-d38f73ce9cdd",
   "metadata": {},
   "outputs": [
    {
     "name": "stdout",
     "output_type": "stream",
     "text": [
      "9\n"
     ]
    }
   ],
   "source": [
    "print(3 ** 2)  # exponential(**)"
   ]
  },
  {
   "cell_type": "code",
   "execution_count": 6,
   "id": "5ee9017c-eeaf-40e9-94b8-304a25907e2e",
   "metadata": {},
   "outputs": [
    {
     "name": "stdout",
     "output_type": "stream",
     "text": [
      "1\n"
     ]
    }
   ],
   "source": [
    "print(3 % 2)   # modulus(%)"
   ]
  },
  {
   "cell_type": "code",
   "execution_count": 10,
   "id": "ba2574c2-15e4-4140-b62d-aa7dc3b929e4",
   "metadata": {},
   "outputs": [
    {
     "name": "stdout",
     "output_type": "stream",
     "text": [
      "1\n"
     ]
    }
   ],
   "source": [
    "print(3 // 2)  # Floor division operator(//)"
   ]
  },
  {
   "cell_type": "markdown",
   "id": "2e45db04-f54b-427f-960e-bf5f46b54fbd",
   "metadata": {},
   "source": [
    "  "
   ]
  },
  {
   "cell_type": "markdown",
   "id": "1f0966b0-b6df-440d-9b9c-e9170a2c4c71",
   "metadata": {},
   "source": [
    "### Checking data types"
   ]
  },
  {
   "cell_type": "code",
   "execution_count": 11,
   "id": "69f18a0e-6ff6-419c-9f94-dd955b129a4d",
   "metadata": {},
   "outputs": [
    {
     "name": "stdout",
     "output_type": "stream",
     "text": [
      "<class 'int'>\n"
     ]
    }
   ],
   "source": [
    "print(type(10))                  # Int"
   ]
  },
  {
   "cell_type": "code",
   "execution_count": 12,
   "id": "d603299a-ccdb-4606-a842-755f5f11e7d7",
   "metadata": {},
   "outputs": [
    {
     "name": "stdout",
     "output_type": "stream",
     "text": [
      "<class 'float'>\n"
     ]
    }
   ],
   "source": [
    "print(type(3.14))                # Float"
   ]
  },
  {
   "cell_type": "code",
   "execution_count": 13,
   "id": "155d3f48-4175-4937-a4b0-cde7751b5856",
   "metadata": {},
   "outputs": [
    {
     "name": "stdout",
     "output_type": "stream",
     "text": [
      "<class 'complex'>\n"
     ]
    }
   ],
   "source": [
    "print(type(1 + 3j))              # Complex"
   ]
  },
  {
   "cell_type": "code",
   "execution_count": 14,
   "id": "1ff28cf7-dc57-470c-b24b-83a98d80e57a",
   "metadata": {},
   "outputs": [
    {
     "name": "stdout",
     "output_type": "stream",
     "text": [
      "<class 'str'>\n"
     ]
    }
   ],
   "source": [
    "print(type('Hannah'))          # String"
   ]
  },
  {
   "cell_type": "code",
   "execution_count": 15,
   "id": "a0cf29ce-5f95-4fd6-b370-bb5741b2cbf2",
   "metadata": {},
   "outputs": [
    {
     "name": "stdout",
     "output_type": "stream",
     "text": [
      "<class 'list'>\n"
     ]
    }
   ],
   "source": [
    "print(type([1, 2, 3]))           # List"
   ]
  },
  {
   "cell_type": "code",
   "execution_count": 16,
   "id": "bc8b9dec-0f42-40ec-a34b-2712f36c21f2",
   "metadata": {},
   "outputs": [
    {
     "name": "stdout",
     "output_type": "stream",
     "text": [
      "<class 'dict'>\n"
     ]
    }
   ],
   "source": [
    "print(type({'Name':'Sairushi'})) # Dictionary"
   ]
  },
  {
   "cell_type": "code",
   "execution_count": 17,
   "id": "450ec89f-b073-46e8-a663-35adee60a00e",
   "metadata": {},
   "outputs": [
    {
     "name": "stdout",
     "output_type": "stream",
     "text": [
      "<class 'set'>\n"
     ]
    }
   ],
   "source": [
    "print(type({9.8, 3.14, 2.7}))    # Set"
   ]
  },
  {
   "cell_type": "code",
   "execution_count": 18,
   "id": "55a9fe53-740a-4728-9231-192259415aa4",
   "metadata": {},
   "outputs": [
    {
     "name": "stdout",
     "output_type": "stream",
     "text": [
      "<class 'tuple'>\n"
     ]
    }
   ],
   "source": [
    "print(type((9.8, 3.14, 2.7)))    # Tuple"
   ]
  },
  {
   "cell_type": "markdown",
   "id": "a65d96fd-b7a8-4c3a-a2f2-4191bda5501f",
   "metadata": {},
   "source": [
    "   "
   ]
  }
 ],
 "metadata": {
  "kernelspec": {
   "display_name": "Python 3 (ipykernel)",
   "language": "python",
   "name": "python3"
  },
  "language_info": {
   "codemirror_mode": {
    "name": "ipython",
    "version": 3
   },
   "file_extension": ".py",
   "mimetype": "text/x-python",
   "name": "python",
   "nbconvert_exporter": "python",
   "pygments_lexer": "ipython3",
   "version": "3.12.4"
  }
 },
 "nbformat": 4,
 "nbformat_minor": 5
}
