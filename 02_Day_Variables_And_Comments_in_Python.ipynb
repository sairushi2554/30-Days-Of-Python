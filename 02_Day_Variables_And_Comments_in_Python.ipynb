{
 "cells": [
  {
   "cell_type": "markdown",
   "id": "c1c6831d-b8c0-40f7-94a1-b71cf29575ed",
   "metadata": {},
   "source": [
    "# Variables in Python"
   ]
  },
  {
   "cell_type": "markdown",
   "id": "7118e5e0-cc55-4f98-870d-47aec83c5bee",
   "metadata": {},
   "source": [
    "### Variables\n",
    "Variables are containers for storing data values."
   ]
  },
  {
   "cell_type": "markdown",
   "id": "8a294221-73e5-4611-884e-9e33fde2f055",
   "metadata": {},
   "source": [
    "    "
   ]
  },
  {
   "cell_type": "markdown",
   "id": "3b7f33c3-798c-4d37-8158-8e9275eca9c2",
   "metadata": {},
   "source": [
    "### Creating Variables"
   ]
  },
  {
   "cell_type": "markdown",
   "id": "21060106-a262-4334-aa61-d4e1b1dd7ccf",
   "metadata": {},
   "source": [
    "Python has no command for declaring a variable. \n",
    "\n",
    "A variable is created the moment you first assign a value to it.\n",
    "\n",
    "Variables do not need to be declared with any particular type, and can even change type after they have been set.\n"
   ]
  },
  {
   "cell_type": "markdown",
   "id": "ab8451ef-dcb9-4411-b69c-dbee43b6f2c1",
   "metadata": {},
   "source": [
    "     "
   ]
  },
  {
   "cell_type": "markdown",
   "id": "bcdfb538-0f44-4645-a9b2-f74bb3ac07d5",
   "metadata": {},
   "source": [
    "### Variable Names"
   ]
  },
  {
   "cell_type": "markdown",
   "id": "d33fe4d8-4078-4520-a2d0-bdd803448ef2",
   "metadata": {},
   "source": [
    "1. A variable can have a short name (like x and y) or a more descriptive name (age, carname, total_volume). Rules for Python variables:\n",
    "2. A variable name must start with a letter or the underscore character\n",
    "3. A variable name cannot start with a number\n",
    "4. A variable name can only contain alpha-numeric characters and underscores (A-z, 0-9, and _ )\n",
    "5. Variable names are case-sensitive (age, Age and AGE are three different variables)\n",
    "6. A variable name cannot be any of the Python keywords."
   ]
  },
  {
   "cell_type": "markdown",
   "id": "670f3059-02e1-4732-b5d6-eef1062b228d",
   "metadata": {},
   "source": [
    "   "
   ]
  },
  {
   "cell_type": "markdown",
   "id": "c087d148-53dc-4684-b3ed-765892350333",
   "metadata": {},
   "source": [
    "### Casting"
   ]
  },
  {
   "cell_type": "code",
   "execution_count": 11,
   "id": "ce0a8770-8baa-422c-a343-e0e0491b5705",
   "metadata": {},
   "outputs": [],
   "source": [
    "\"\"\" If you want to specify the data type of a variable, this can be done with casting. \"\"\"\n",
    "x = str(10)    # x will be '10'\n",
    "y = int(17)    # y will be 17\n",
    "z = float(21)  # z will be 21.0"
   ]
  },
  {
   "cell_type": "markdown",
   "id": "0ed5c45e-65f0-433e-b36d-874266e2361f",
   "metadata": {},
   "source": [
    "    "
   ]
  },
  {
   "cell_type": "markdown",
   "id": "552b7a8e-ba8a-4f3b-ad55-f540c3e9da1a",
   "metadata": {},
   "source": [
    "### Get the Type"
   ]
  },
  {
   "cell_type": "code",
   "execution_count": 14,
   "id": "cd4ace3b-0dec-4d59-8400-72621bbf6432",
   "metadata": {},
   "outputs": [
    {
     "name": "stdout",
     "output_type": "stream",
     "text": [
      "<class 'int'>\n",
      "<class 'str'>\n"
     ]
    }
   ],
   "source": [
    "\"\"\" You can get the data type of a variable with the type() function. \"\"\"\n",
    "x = 99\n",
    "y = \"Hannah\"\n",
    "print(type(x))\n",
    "print(type(y))"
   ]
  },
  {
   "cell_type": "markdown",
   "id": "ae3a8282-6bfe-4943-9482-43e8b70c3b9d",
   "metadata": {},
   "source": [
    "     "
   ]
  },
  {
   "cell_type": "markdown",
   "id": "e8267a53-1454-4c66-8072-72ddd9f130c2",
   "metadata": {},
   "source": [
    "### Many Values to Multiple Variables"
   ]
  },
  {
   "cell_type": "code",
   "execution_count": 17,
   "id": "35b09d94-101b-4fb6-8308-dfa64b2e77ea",
   "metadata": {},
   "outputs": [
    {
     "name": "stdout",
     "output_type": "stream",
     "text": [
      "Orange\n",
      "Banana\n",
      "Cherry\n"
     ]
    }
   ],
   "source": [
    "\"\"\" Python allows you to assign values to multiple variables in one line: \"\"\"\n",
    "x, y, z = \"Orange\", \"Banana\", \"Cherry\"\n",
    "print(x)\n",
    "print(y)\n",
    "print(z)"
   ]
  },
  {
   "cell_type": "markdown",
   "id": "e0965aef-4771-43fc-a52d-218ca2687770",
   "metadata": {},
   "source": [
    "    "
   ]
  },
  {
   "cell_type": "markdown",
   "id": "97f272bc-7a71-46e2-a72e-c35f49c85c45",
   "metadata": {},
   "source": [
    "### One Value to Multiple Variables"
   ]
  },
  {
   "cell_type": "code",
   "execution_count": 20,
   "id": "e9825719-1a6a-4d8b-8ca8-cc83fc1b49ea",
   "metadata": {},
   "outputs": [
    {
     "name": "stdout",
     "output_type": "stream",
     "text": [
      "Tokyo Drift\n",
      "Tokyo Drift\n",
      "Tokyo Drift\n"
     ]
    }
   ],
   "source": [
    "\"\"\" you can assign the same value to multiple variables in one line:\"\"\"\n",
    "x = y = z = \"Tokyo Drift\"\n",
    "print(x)\n",
    "print(y)\n",
    "print(z)"
   ]
  },
  {
   "cell_type": "markdown",
   "id": "ad19c6e3-ab0a-441b-b738-806e29e80f4f",
   "metadata": {},
   "source": [
    "        "
   ]
  },
  {
   "cell_type": "markdown",
   "id": "de8e610f-b607-4f5a-95c5-49834712e28a",
   "metadata": {},
   "source": [
    "### Unpack a Collection"
   ]
  },
  {
   "cell_type": "code",
   "execution_count": 23,
   "id": "94f4959b-575b-4376-89a6-584c9104459b",
   "metadata": {},
   "outputs": [
    {
     "name": "stdout",
     "output_type": "stream",
     "text": [
      "BMW\n",
      "Ninja\n",
      "Thar\n"
     ]
    }
   ],
   "source": [
    "\"\"\" If you have a collection of values in a list, tuple etc. Python allows you to extract the values into variables. This is called unpacking. \"\"\"\n",
    "cars = [\"BMW\", \"Ninja\", \"Thar\"]\n",
    "x, y, z = cars\n",
    "print(x)\n",
    "print(y)\n",
    "print(z)"
   ]
  },
  {
   "cell_type": "markdown",
   "id": "532a8023-f836-48c0-a341-78c00306818c",
   "metadata": {},
   "source": [
    "    "
   ]
  },
  {
   "cell_type": "markdown",
   "id": "2d6dfbae-c004-4037-b877-2c0a123b9dea",
   "metadata": {},
   "source": [
    "### Multi Words Variable Names\n",
    "Variable names with more than one word can be difficult to read.\n",
    "\n",
    "There are several techniques you can use to make them more readable:"
   ]
  },
  {
   "cell_type": "markdown",
   "id": "75fbdfc3-ee4e-4a6b-984f-c7a49524f298",
   "metadata": {},
   "source": [
    "### Camel Case\n",
    "Each word, except the first, starts with a capital letter:"
   ]
  },
  {
   "cell_type": "code",
   "execution_count": 27,
   "id": "d6804367-d8b6-4a47-a5af-d38f4ed0629b",
   "metadata": {},
   "outputs": [],
   "source": [
    "myVariableName = \"Sairushi\""
   ]
  },
  {
   "cell_type": "markdown",
   "id": "f2619a9a-4362-4071-833d-f1d5954fbc46",
   "metadata": {},
   "source": [
    "### Pascal Case\n",
    "Each word starts with a capital letter:"
   ]
  },
  {
   "cell_type": "code",
   "execution_count": 29,
   "id": "605b5dc1-e96c-4e8c-83ae-eb678a73f639",
   "metadata": {},
   "outputs": [],
   "source": [
    "MyVariableName = \"Sairushi\""
   ]
  },
  {
   "cell_type": "markdown",
   "id": "d2537ce3-06ac-42f1-9677-c62d4543cc43",
   "metadata": {},
   "source": [
    "### Snake Case\n",
    "Each word is separated by an underscore character:"
   ]
  },
  {
   "cell_type": "code",
   "execution_count": 31,
   "id": "bf0c654d-6b78-4b76-9334-6e783da936fa",
   "metadata": {},
   "outputs": [],
   "source": [
    "my_variable_name = \"Sairushi\""
   ]
  },
  {
   "cell_type": "markdown",
   "id": "83b2587f-b345-4d31-8936-ab048eb657cd",
   "metadata": {},
   "source": [
    "       "
   ]
  },
  {
   "cell_type": "markdown",
   "id": "7152c6be-a280-4a28-ae23-1e550c5bc78b",
   "metadata": {},
   "source": [
    "### Output Variables\n",
    "The Python print() function is often used to output variables."
   ]
  },
  {
   "cell_type": "code",
   "execution_count": 34,
   "id": "cd762004-423e-4a7a-ad32-da96d8287ded",
   "metadata": {},
   "outputs": [
    {
     "name": "stdout",
     "output_type": "stream",
     "text": [
      "Winter is Coming\n"
     ]
    }
   ],
   "source": [
    "x = \"Winter is Coming\"\n",
    "print(x)"
   ]
  },
  {
   "cell_type": "markdown",
   "id": "4dc93a0d-5e34-4315-8cee-44ec4e19644f",
   "metadata": {},
   "source": [
    "In the print() function, you output multiple variables, separated by a comma:"
   ]
  },
  {
   "cell_type": "code",
   "execution_count": 36,
   "id": "5ffe77da-fcf1-475f-9b8e-9ee666e0852d",
   "metadata": {},
   "outputs": [
    {
     "name": "stdout",
     "output_type": "stream",
     "text": [
      "Winter is Coming\n"
     ]
    }
   ],
   "source": [
    "x = \"Winter\"\n",
    "y = \"is\"\n",
    "z = \"Coming\"\n",
    "print(x, y, z)"
   ]
  },
  {
   "cell_type": "markdown",
   "id": "beb06eb8-e201-480c-b3a5-01a1b3400c48",
   "metadata": {},
   "source": [
    "You can also use the + operator to output multiple variables:"
   ]
  },
  {
   "cell_type": "code",
   "execution_count": 38,
   "id": "23a784fa-2f85-4cf4-9860-95ae7ef0c0a2",
   "metadata": {},
   "outputs": [
    {
     "name": "stdout",
     "output_type": "stream",
     "text": [
      "Winter is Coming\n"
     ]
    }
   ],
   "source": [
    "x = \"Winter \"\n",
    "y = \"is \"\n",
    "z = \"Coming\"\n",
    "print(x + y + z)"
   ]
  },
  {
   "cell_type": "markdown",
   "id": "f7fc7030-e948-4e61-b7f5-42920358afaa",
   "metadata": {},
   "source": [
    "      "
   ]
  },
  {
   "cell_type": "markdown",
   "id": "1b42aab9-51a0-4f1c-9785-52ab41029cf9",
   "metadata": {},
   "source": [
    "In the print() function, when you try to combine a string and a number with the + operator, Python will give you an error.\n",
    "\n",
    "The best way to output multiple variables in the print() function is to separate them with commas, which even support different data types:"
   ]
  },
  {
   "cell_type": "code",
   "execution_count": 41,
   "id": "659d135c-d072-4d9a-85a4-88da2176ef15",
   "metadata": {},
   "outputs": [
    {
     "name": "stdout",
     "output_type": "stream",
     "text": [
      " My age is  21\n"
     ]
    }
   ],
   "source": [
    "x = 21\n",
    "y = \" My age is \"\n",
    "print(y, x)"
   ]
  },
  {
   "cell_type": "markdown",
   "id": "c7348c21-549e-4c2d-8eff-1501030d4e12",
   "metadata": {},
   "source": [
    "    "
   ]
  },
  {
   "cell_type": "markdown",
   "id": "92a68498-9d53-45a9-87b3-61b5fd6f5938",
   "metadata": {},
   "source": [
    "### Global Variables\n",
    "Variables that are created outside of a function (as in all of the examples in the previous ) are known as ***global variables***.\r\n",
    "\r\n",
    "Global variables can be used by everyone, both inside of functions and outside."
   ]
  },
  {
   "cell_type": "code",
   "execution_count": 44,
   "id": "725ad6c3-ab3f-4cbf-8fff-eeb5af18547f",
   "metadata": {},
   "outputs": [
    {
     "name": "stdout",
     "output_type": "stream",
     "text": [
      "Python is Amazing\n"
     ]
    }
   ],
   "source": [
    "x = \"Python\"      # global variable\n",
    "def myfun():\n",
    "    print( x + \" is Amazing\")\n",
    "\n",
    "myfun()"
   ]
  },
  {
   "cell_type": "markdown",
   "id": "91d2d691-afcf-4e18-8b62-df499107008f",
   "metadata": {},
   "source": [
    "If you create a variable with the same name inside a function, this variable will be local, and can only be used inside the function. The global variable with the same name will remain as it was, global and with the original value."
   ]
  },
  {
   "cell_type": "code",
   "execution_count": 46,
   "id": "b6a49a0c-b85a-46b6-a962-651d305c41d1",
   "metadata": {},
   "outputs": [],
   "source": [
    "x = \"Amazing\""
   ]
  },
  {
   "cell_type": "code",
   "execution_count": 47,
   "id": "0232b65f-cc40-4ad5-aa64-9ded240b415d",
   "metadata": {},
   "outputs": [
    {
     "name": "stdout",
     "output_type": "stream",
     "text": [
      "Python is fantastic\n"
     ]
    }
   ],
   "source": [
    "def myfunc():\n",
    "  x = \"fantastic\"     # Here this is a local variable which is inside a fun and can be used inside the function only.\n",
    "  print(\"Python is \" + x)\n",
    "\n",
    "myfunc()"
   ]
  },
  {
   "cell_type": "code",
   "execution_count": 48,
   "id": "ceebd6ad-ddf2-4701-a5a7-c77da9e71627",
   "metadata": {},
   "outputs": [
    {
     "name": "stdout",
     "output_type": "stream",
     "text": [
      "Python is Amazing\n"
     ]
    }
   ],
   "source": [
    "print(\"Python is \" + x)"
   ]
  },
  {
   "cell_type": "markdown",
   "id": "57b4c59c-ae47-4588-875d-b6f6f82ad6a8",
   "metadata": {},
   "source": [
    "### The global Keyword\n",
    "Normally, when you create a variable inside a function, that variable is local, and can only be used inside that function.\r\n",
    "\r\n",
    "To create a global variable inside a function, you can use the global keyword."
   ]
  },
  {
   "cell_type": "code",
   "execution_count": 50,
   "id": "cb1d7e46-7662-46b5-b56d-fc1a3fdb204f",
   "metadata": {},
   "outputs": [
    {
     "name": "stdout",
     "output_type": "stream",
     "text": [
      "Python is fantastic\n"
     ]
    }
   ],
   "source": [
    "def myfunc():\n",
    "  global x   # makes var x global\n",
    "  x = \"fantastic\"\n",
    "\n",
    "myfunc()\n",
    "\n",
    "print(\"Python is \" + x)"
   ]
  },
  {
   "cell_type": "code",
   "execution_count": 51,
   "id": "d1c4879b-6cb2-4d76-9419-7665b4e64339",
   "metadata": {},
   "outputs": [
    {
     "name": "stdout",
     "output_type": "stream",
     "text": [
      "Python is fantastic\n"
     ]
    }
   ],
   "source": [
    "x = \"amazing\"\n",
    "\n",
    "def myfunc():\n",
    "  global x\n",
    "  x = \"fantastic\"\n",
    "\n",
    "myfunc()\n",
    "\n",
    "print(\"Python is \" + x)"
   ]
  },
  {
   "cell_type": "markdown",
   "id": "d8fd5f96-f7e9-4eee-921e-7efe733bdbbd",
   "metadata": {},
   "source": [
    "        "
   ]
  },
  {
   "cell_type": "code",
   "execution_count": 53,
   "id": "7c9464fd-7c27-475f-a5be-5664da822300",
   "metadata": {},
   "outputs": [],
   "source": [
    "first_name='Sairushi'\n",
    "middle_name='Nanasaheb'\n",
    "last_name='Gadakh'\n",
    "age=21\n",
    "is_married=False\n",
    "skills = ['Python', 'R', 'SQL', 'Excel', 'Azure']\n",
    "country='India'\n",
    "city='Sangamner'\n"
   ]
  },
  {
   "cell_type": "code",
   "execution_count": 54,
   "id": "6173d91d-60f2-4ab7-939b-8b9b2d732a02",
   "metadata": {},
   "outputs": [],
   "source": [
    "person_info = {\n",
    "    'firstname':'Sairushi', \n",
    "    'lastname':'Gadakh', \n",
    "    'country':'India',\n",
    "    'city':'Sangamner'\n",
    "    }"
   ]
  },
  {
   "cell_type": "markdown",
   "id": "96677273-c2e6-4fa5-b4d3-5fd53b417958",
   "metadata": {},
   "source": [
    "###  Printing the values stored in the variables"
   ]
  },
  {
   "cell_type": "code",
   "execution_count": 56,
   "id": "c8fc6ace-9416-4a59-8cbb-6e0cdd80646a",
   "metadata": {},
   "outputs": [
    {
     "name": "stdout",
     "output_type": "stream",
     "text": [
      "{'firstname': 'Sairushi', 'lastname': 'Gadakh', 'country': 'India', 'city': 'Sangamner'}\n"
     ]
    }
   ],
   "source": [
    "print(person_info)"
   ]
  },
  {
   "cell_type": "code",
   "execution_count": 57,
   "id": "f80f5f9f-bfe7-4050-a4d7-e2f90d189749",
   "metadata": {},
   "outputs": [
    {
     "name": "stdout",
     "output_type": "stream",
     "text": [
      "First name: Sairushi\n"
     ]
    }
   ],
   "source": [
    "print('First name:', first_name)"
   ]
  },
  {
   "cell_type": "code",
   "execution_count": 58,
   "id": "314a031a-0971-41b7-8525-371376e993b9",
   "metadata": {},
   "outputs": [
    {
     "name": "stdout",
     "output_type": "stream",
     "text": [
      "First name length: 8\n"
     ]
    }
   ],
   "source": [
    "print('First name length:', len(first_name))"
   ]
  },
  {
   "cell_type": "code",
   "execution_count": 59,
   "id": "70fbddb4-7b9f-4370-898e-50d3eefa2761",
   "metadata": {},
   "outputs": [
    {
     "name": "stdout",
     "output_type": "stream",
     "text": [
      "Last name:  Gadakh\n"
     ]
    }
   ],
   "source": [
    "print('Last name: ', last_name)"
   ]
  },
  {
   "cell_type": "code",
   "execution_count": 60,
   "id": "38e74e90-38ad-4fa2-bcfc-49db731f9000",
   "metadata": {},
   "outputs": [
    {
     "name": "stdout",
     "output_type": "stream",
     "text": [
      "Last name length:  6\n"
     ]
    }
   ],
   "source": [
    "print('Last name length: ', len(last_name))"
   ]
  },
  {
   "cell_type": "code",
   "execution_count": 61,
   "id": "595718b8-9f3d-4d2d-89d8-fae3c58330c2",
   "metadata": {},
   "outputs": [
    {
     "name": "stdout",
     "output_type": "stream",
     "text": [
      "Country:  India\n"
     ]
    }
   ],
   "source": [
    "print('Country: ', country)"
   ]
  },
  {
   "cell_type": "code",
   "execution_count": 62,
   "id": "c5c51057-f400-4d2d-9b8e-ec6ff3325d19",
   "metadata": {},
   "outputs": [
    {
     "name": "stdout",
     "output_type": "stream",
     "text": [
      "City:  Sangamner\n"
     ]
    }
   ],
   "source": [
    "print('City: ', city)"
   ]
  },
  {
   "cell_type": "code",
   "execution_count": 63,
   "id": "38836cad-af3b-4309-a816-eafea9e0efa1",
   "metadata": {},
   "outputs": [
    {
     "name": "stdout",
     "output_type": "stream",
     "text": [
      "Age:  21\n"
     ]
    }
   ],
   "source": [
    "print('Age: ', age)"
   ]
  },
  {
   "cell_type": "code",
   "execution_count": 64,
   "id": "15ac2b89-e4df-4664-93f8-f36d82c2116d",
   "metadata": {},
   "outputs": [
    {
     "name": "stdout",
     "output_type": "stream",
     "text": [
      "Married:  False\n"
     ]
    }
   ],
   "source": [
    "print('Married: ', is_married)"
   ]
  },
  {
   "cell_type": "code",
   "execution_count": 65,
   "id": "d15ec63c-94bb-4e7f-957d-a0cc32047fdc",
   "metadata": {},
   "outputs": [
    {
     "name": "stdout",
     "output_type": "stream",
     "text": [
      "Skills:  ['Python', 'R', 'SQL', 'Excel', 'Azure']\n"
     ]
    }
   ],
   "source": [
    "print('Skills: ', skills)"
   ]
  },
  {
   "cell_type": "code",
   "execution_count": 66,
   "id": "56b5e03c-24ad-4202-beba-272d6c162dcb",
   "metadata": {},
   "outputs": [
    {
     "name": "stdout",
     "output_type": "stream",
     "text": [
      "Person information:  {'firstname': 'Sairushi', 'lastname': 'Gadakh', 'country': 'India', 'city': 'Sangamner'}\n"
     ]
    }
   ],
   "source": [
    "print('Person information: ', person_info)"
   ]
  },
  {
   "cell_type": "markdown",
   "id": "441b4db8-1a69-444f-9fec-fd885b0d4675",
   "metadata": {},
   "source": [
    "   "
   ]
  },
  {
   "cell_type": "markdown",
   "id": "a22153ef-121f-4133-89f1-abcd5a7c2cee",
   "metadata": {},
   "source": [
    "### Declaring Multiple variables in one line"
   ]
  },
  {
   "cell_type": "code",
   "execution_count": 69,
   "id": "54658fe8-07ae-470a-93c8-8cd7f4a6f565",
   "metadata": {},
   "outputs": [],
   "source": [
    "first_name,last_name,country,age,is_married='Sairushi','Gadakh','India',21,False"
   ]
  },
  {
   "cell_type": "code",
   "execution_count": 70,
   "id": "01fdc850-4985-4e31-b3ef-5433b89816d4",
   "metadata": {
    "scrolled": true
   },
   "outputs": [
    {
     "name": "stdout",
     "output_type": "stream",
     "text": [
      "Sairushi Gadakh India 21 False\n",
      "First name: Sairushi\n",
      "Last name:  Gadakh\n",
      "Country:  India\n",
      "Age:  21\n",
      "Married:  False\n"
     ]
    }
   ],
   "source": [
    "print(first_name, last_name, country, age, is_married)\n",
    "print('First name:', first_name)\n",
    "print('Last name: ', last_name)\n",
    "print('Country: ', country)\n",
    "print('Age: ', age)\n",
    "print('Married: ', is_married)"
   ]
  },
  {
   "cell_type": "markdown",
   "id": "90049d8d-178d-4860-9d49-0427c0b0d26f",
   "metadata": {},
   "source": [
    "      "
   ]
  },
  {
   "cell_type": "markdown",
   "id": "8ff725e8-e294-4296-86a6-e619c3ae9890",
   "metadata": {},
   "source": [
    "### Comments\n",
    "Comments can be used to explain Python code.\r\n",
    "\r\n",
    "Comments can be used to make the code more readable.\r\n",
    "\r\n",
    "Comments can be used to prevent execution when testing code."
   ]
  },
  {
   "cell_type": "markdown",
   "id": "50542948-e0e1-4b33-b4ac-fa035d3bdec5",
   "metadata": {},
   "source": [
    "#### Creating a Comment\n",
    "Comments starts with a #, and Python will ignore them"
   ]
  },
  {
   "cell_type": "code",
   "execution_count": 74,
   "id": "17f9b959-f4c1-4954-a530-694ce09d3f29",
   "metadata": {},
   "outputs": [],
   "source": [
    "# This is a comment"
   ]
  },
  {
   "cell_type": "markdown",
   "id": "5fc0bd29-9de4-466f-80b7-9b83ad0a7d09",
   "metadata": {},
   "source": [
    "A comment does not have to be text that explains the code, it can also be used to prevent Python from executing code"
   ]
  },
  {
   "cell_type": "code",
   "execution_count": 76,
   "id": "a711b058-a407-4ad5-bb0b-c81802771306",
   "metadata": {},
   "outputs": [
    {
     "name": "stdout",
     "output_type": "stream",
     "text": [
      "I am doing great\n"
     ]
    }
   ],
   "source": [
    "# print(\"This is awesome\")\n",
    "print(\"I am doing great\")"
   ]
  },
  {
   "cell_type": "markdown",
   "id": "c4a4deeb-238c-431a-9e16-a76d4fba2bda",
   "metadata": {},
   "source": [
    "#### Multiline Comments\n",
    "Python does not really have a syntax for multiline comments.\n",
    "\n",
    "To add a multiline comment you could insert a # for each line"
   ]
  },
  {
   "cell_type": "code",
   "execution_count": 78,
   "id": "8d02b72a-3d84-46b2-a46c-df2aaba509a9",
   "metadata": {},
   "outputs": [],
   "source": [
    "#This is a comment\n",
    "#written in\n",
    "#more than just one line"
   ]
  },
  {
   "cell_type": "markdown",
   "id": "d071690b-8084-49e1-8182-8d0c002804a6",
   "metadata": {},
   "source": [
    "Or, not quite as intended, you can use a multiline string.\n",
    "\n",
    "Since Python will ignore string literals that are not assigned to a variable, you can add a multiline string (triple quotes) in your code, and place your comment inside it."
   ]
  },
  {
   "cell_type": "code",
   "execution_count": 80,
   "id": "fc049a54-6a30-4e82-8774-1da2b89514fc",
   "metadata": {},
   "outputs": [
    {
     "data": {
      "text/plain": [
       "'\\nThis is a comment\\nwritten in\\nmore than just one line\\n'"
      ]
     },
     "execution_count": 80,
     "metadata": {},
     "output_type": "execute_result"
    }
   ],
   "source": [
    "\"\"\"\n",
    "This is a comment\n",
    "written in\n",
    "more than just one line\n",
    "\"\"\""
   ]
  },
  {
   "cell_type": "markdown",
   "id": "f40bec75-7401-4075-9c95-c7f17194391d",
   "metadata": {},
   "source": [
    "As long as the string is not assigned to a variable, Python will read the code, but then ignore it, and you have made a multiline comment.\n",
    "\n"
   ]
  },
  {
   "cell_type": "markdown",
   "id": "d6e88ce1-674a-4453-b5a2-1ddb4f7e5ef5",
   "metadata": {},
   "source": [
    "   "
   ]
  }
 ],
 "metadata": {
  "kernelspec": {
   "display_name": "Python 3 (ipykernel)",
   "language": "python",
   "name": "python3"
  },
  "language_info": {
   "codemirror_mode": {
    "name": "ipython",
    "version": 3
   },
   "file_extension": ".py",
   "mimetype": "text/x-python",
   "name": "python",
   "nbconvert_exporter": "python",
   "pygments_lexer": "ipython3",
   "version": "3.12.4"
  }
 },
 "nbformat": 4,
 "nbformat_minor": 5
}
